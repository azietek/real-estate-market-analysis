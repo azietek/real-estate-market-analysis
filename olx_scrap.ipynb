{
 "cells": [
  {
   "cell_type": "code",
   "execution_count": 1,
   "id": "32e70e91-aa3f-4f8b-8251-441fd2deb35f",
   "metadata": {},
   "outputs": [],
   "source": [
    "from selenium import webdriver\n",
    "from selenium.webdriver.common.keys import Keys\n",
    "from selenium.webdriver.common.by import By\n",
    "from selenium.webdriver.common.action_chains import ActionChains\n",
    "import time\n",
    "from os.path  import basename\n",
    "import requests\n",
    "from PIL import Image\n",
    "from selenium.webdriver.support.ui import WebDriverWait\n",
    "from IPython.display import display\n",
    "import pandas as pd"
   ]
  },
  {
   "cell_type": "code",
   "execution_count": 68,
   "id": "5ca8269c-7827-4971-ba16-62e8dc535fc3",
   "metadata": {},
   "outputs": [
    {
     "name": "stdout",
     "output_type": "stream",
     "text": [
      "Prywatne\n",
      "Poziom: 1\n",
      "Umeblowane: Tak\n",
      "Rodzaj zabudowy: Blok\n",
      "Powierzchnia: 57 m²\n",
      "Liczba pokoi: 3 pokoje\n",
      "Czynsz (dodatkowo): 550 zł\n"
     ]
    }
   ],
   "source": [
    "tagi = driver.find_elements(By.CLASS_NAME, \"css-1r0si1e\")\n",
    "for tag in tagi:\n",
    "    print(tag.text)"
   ]
  },
  {
   "cell_type": "code",
   "execution_count": null,
   "id": "603b2e54-b34a-4e32-a85e-2a4dde9606d9",
   "metadata": {},
   "outputs": [],
   "source": [
    "#tu sie jeszcze pozniej dolozy wynik z tagow do koncowego returna"
   ]
  },
  {
   "cell_type": "code",
   "execution_count": 97,
   "id": "2a44d115-70d4-4016-8a04-2b4b39f1ce7c",
   "metadata": {},
   "outputs": [],
   "source": [
    "def get_info_olx(url):\n",
    "    driver = webdriver.Chrome()\n",
    "    driver.get(url)\n",
    "    driver.implicitly_wait(1)\n",
    "    button = driver.find_element(By.ID, \"onetrust-accept-btn-handler\")\n",
    "    button.click()\n",
    "    nazwa = driver.find_element(By.CLASS_NAME, \"css-77x51t\").text\n",
    "    cena = driver.find_element(By.CLASS_NAME, \"css-93ez2t\").text\n",
    "    opis = driver.find_element(By.CLASS_NAME, \"css-1m8mzwg\").text.split(\"OPIS\")[1].strip()\n",
    "    wojewodztwo = driver.find_element(By.XPATH, \"//div[@id='hydrate-root']/div[@class='css-1ek5um8']/div[@class='css-118kolg']/div[@class='css-1d90tha']/div[@class='css-6u8zs6']/div[@class='css-1dp6pbg']/div[@class='css-1q7h1ph']/section[@class='css-16sja3n']/div[@class='css-13l8eec']/div/p[@class='css-b5m1rv er34gjf0']\").text\n",
    "    lokalizacja = driver.find_element(By.XPATH, \"//div[@id='hydrate-root']/div[@class='css-1ek5um8']/div[@class='css-118kolg']/div[@class='css-1d90tha']/div[@class='css-6u8zs6']/div[@class='css-1dp6pbg']/div[@class='css-1q7h1ph']/section[@class='css-16sja3n']/div[@class='css-13l8eec']/div/p[@class='css-1cju8pu er34gjf0']\").text\n",
    "    tagi = driver.find_elements(By.CLASS_NAME, \"css-1r0si1e\")\n",
    "    col=['nazwa_ogloszenia', 'cena' ,'opis', 'wojewodztwo' ,'lokalizacja']\n",
    "    dane=[[nazwa,cena, opis, wojewodztwo, lokalizacja]]\n",
    "    return pd.DataFrame(data=dane,columns=col)\n",
    "\n",
    "    "
   ]
  },
  {
   "cell_type": "code",
   "execution_count": 95,
   "id": "ac114628-e894-42b4-b86c-96a8e9be80f8",
   "metadata": {},
   "outputs": [
    {
     "data": {
      "text/html": [
       "<div>\n",
       "<style scoped>\n",
       "    .dataframe tbody tr th:only-of-type {\n",
       "        vertical-align: middle;\n",
       "    }\n",
       "\n",
       "    .dataframe tbody tr th {\n",
       "        vertical-align: top;\n",
       "    }\n",
       "\n",
       "    .dataframe thead th {\n",
       "        text-align: right;\n",
       "    }\n",
       "</style>\n",
       "<table border=\"1\" class=\"dataframe\">\n",
       "  <thead>\n",
       "    <tr style=\"text-align: right;\">\n",
       "      <th></th>\n",
       "      <th>nazwa_ogloszenia</th>\n",
       "      <th>cena</th>\n",
       "      <th>opis</th>\n",
       "      <th>wojewodztwo</th>\n",
       "      <th>lokalizacja</th>\n",
       "    </tr>\n",
       "  </thead>\n",
       "  <tbody>\n",
       "    <tr>\n",
       "      <th>0</th>\n",
       "      <td>Wynajmę mieszkanie 3 pokoje 57m2 Wrocław</td>\n",
       "      <td>3 300 zł</td>\n",
       "      <td>Wynajmę mieszkanie 57m2 + 12m2 balkon, 2 pokoj...</td>\n",
       "      <td>Dolnośląskie</td>\n",
       "      <td>Wrocław, Psie Pole</td>\n",
       "    </tr>\n",
       "  </tbody>\n",
       "</table>\n",
       "</div>"
      ],
      "text/plain": [
       "                           nazwa_ogloszenia      cena  \\\n",
       "0  Wynajmę mieszkanie 3 pokoje 57m2 Wrocław  3 300 zł   \n",
       "\n",
       "                                                opis   wojewodztwo  \\\n",
       "0  Wynajmę mieszkanie 57m2 + 12m2 balkon, 2 pokoj...  Dolnośląskie   \n",
       "\n",
       "          lokalizacja  \n",
       "0  Wrocław, Psie Pole  "
      ]
     },
     "execution_count": 95,
     "metadata": {},
     "output_type": "execute_result"
    }
   ],
   "source": [
    "get_info_olx('https://www.olx.pl/d/oferta/wynajme-mieszkanie-3-pokoje-57m2-wroclaw-CID3-IDYctw0.html')"
   ]
  },
  {
   "cell_type": "code",
   "execution_count": 98,
   "id": "5736e7d8-000f-400d-8732-51b4740ec004",
   "metadata": {},
   "outputs": [
    {
     "data": {
      "text/html": [
       "<div>\n",
       "<style scoped>\n",
       "    .dataframe tbody tr th:only-of-type {\n",
       "        vertical-align: middle;\n",
       "    }\n",
       "\n",
       "    .dataframe tbody tr th {\n",
       "        vertical-align: top;\n",
       "    }\n",
       "\n",
       "    .dataframe thead th {\n",
       "        text-align: right;\n",
       "    }\n",
       "</style>\n",
       "<table border=\"1\" class=\"dataframe\">\n",
       "  <thead>\n",
       "    <tr style=\"text-align: right;\">\n",
       "      <th></th>\n",
       "      <th>nazwa_ogloszenia</th>\n",
       "      <th>cena</th>\n",
       "      <th>opis</th>\n",
       "      <th>wojewodztwo</th>\n",
       "      <th>lokalizacja</th>\n",
       "    </tr>\n",
       "  </thead>\n",
       "  <tbody>\n",
       "    <tr>\n",
       "      <th>0</th>\n",
       "      <td>Dwupoziomowe mieszkanie z miejscem postojowym ...</td>\n",
       "      <td>580 000 zł</td>\n",
       "      <td>Sprzedam dwupoziomowe mieszkanie po remoncie w...</td>\n",
       "      <td>Pomorskie</td>\n",
       "      <td>Słupsk,</td>\n",
       "    </tr>\n",
       "  </tbody>\n",
       "</table>\n",
       "</div>"
      ],
      "text/plain": [
       "                                    nazwa_ogloszenia        cena  \\\n",
       "0  Dwupoziomowe mieszkanie z miejscem postojowym ...  580 000 zł   \n",
       "\n",
       "                                                opis wojewodztwo lokalizacja  \n",
       "0  Sprzedam dwupoziomowe mieszkanie po remoncie w...   Pomorskie     Słupsk,  "
      ]
     },
     "execution_count": 98,
     "metadata": {},
     "output_type": "execute_result"
    }
   ],
   "source": [
    "get_info_olx('https://www.olx.pl/d/oferta/dwupoziomowe-mieszkanie-z-miejscem-postojowym-w-hali-garazowej-CID3-IDQz5Vu.html')"
   ]
  },
  {
   "cell_type": "markdown",
   "id": "093b01a2-a646-42e2-bb67-c1e9a05bdb23",
   "metadata": {},
   "source": [
    "***Otodom***"
   ]
  },
  {
   "cell_type": "code",
   "execution_count": 175,
   "id": "08501cb4-87b4-45aa-8941-84910f64e7d4",
   "metadata": {},
   "outputs": [],
   "source": [
    "def get_info_otodom(url):\n",
    "    driver = webdriver.Chrome()\n",
    "    driver.get(url)\n",
    "    driver.implicitly_wait(1)\n",
    "    button = driver.find_element(By.ID, \"onetrust-accept-btn-handler\")\n",
    "    button.click()\n",
    "    driver.maximize_window()\n",
    "    \n",
    "    nazwa = driver.find_element(By.XPATH, '/html/body/div[1]/main/div[2]/div[2]/header/h1').text\n",
    "    cena = driver.find_element(By.XPATH, '/html/body/div[1]/main/div[2]/div[2]/header/strong').text\n",
    "    \n",
    "    try:\n",
    "        zametr = driver.find_element(By.XPATH, '//*[@id=\"__next\"]/main/div[2]/div[2]/header/div[3]').text\n",
    "    except:\n",
    "        zametr = None\n",
    "        \n",
    "    try:\n",
    "        lokalizacja = driver.find_element(By.XPATH, '//*[@id=\"__next\"]/main/div[2]/div[2]/header/div[2]/a').text\n",
    "    except:\n",
    "        lokalizacja = None\n",
    "    \n",
    "    try:\n",
    "        powierzchnia = driver.find_element(By.XPATH, '//*[@id=\"__next\"]/main/div[2]/div[2]/div[2]/div/div[1]/div[2]/div').text\n",
    "    except:\n",
    "        powierzchnia = None\n",
    "        \n",
    "    try:\n",
    "        pokoje = driver.find_element(By.XPATH, '//*[@id=\"__next\"]/main/div[2]/div[2]/div[2]/div/div[3]/div[2]/div/a').text\n",
    "    except:\n",
    "        pokoje = None\n",
    "        \n",
    "    try:\n",
    "        pietro =driver.find_element(By.XPATH, '//*[@id=\"__next\"]/main/div[2]/div[2]/div[2]/div/div[5]/div[2]/div').text\n",
    "    except:\n",
    "        pietro  = None\n",
    "        \n",
    "    try:\n",
    "        czynsz = driver.find_element(By.XPATH, '//*[@id=\"__next\"]/main/div[2]/div[2]/div[2]/div/div[7]/div[2]/div').text\n",
    "    except:\n",
    "        czynsz = None\n",
    "\n",
    "    try:\n",
    "        forma_wlasnosci = driver.find_element(By.XPATH, '//*[@id=\"__next\"]/main/div[2]/div[2]/div[2]/div/div[2]/div[2]/div').text \n",
    "    except:\n",
    "        forma_wlasnosci = None\n",
    "\n",
    "    try:\n",
    "        stan_wykonczenia = driver.find_element(By.XPATH, '//*[@id=\"__next\"]/main/div[2]/div[2]/div[2]/div/div[4]/div[2]/div').text \n",
    "    except:\n",
    "        stan_wykonczenia = None\n",
    "\n",
    "    try:\n",
    "        balkon_ogrod_taras = driver.find_element(By.XPATH, '//*[@id=\"__next\"]/main/div[2]/div[2]/div[2]/div/div[6]/div[2]/div').text \n",
    "    except:\n",
    "        balkon_ogrod_taras = None\n",
    "\n",
    "    try:\n",
    "        miesce_parkingowe = driver.find_element(By.XPATH, '//*[@id=\"__next\"]/main/div[2]/div[2]/div[2]/div/div[8]/div[2]/span/span/div').text \n",
    "    except:\n",
    "        miesce_parkingowe = None\n",
    "\n",
    "    try:\n",
    "        ogrzewanie = driver.find_element(By.XPATH, '//*[@id=\"__next\"]/main/div[2]/div[2]/div[2]/div/div[10]/div[2]/div').text \n",
    "    except:\n",
    "        ogrzewanie = None\n",
    "\n",
    "    try:\n",
    "        button = driver.find_element(By.XPATH, '//*[@id=\"__next\"]/main/div[2]/div[2]/section[2]/div/button')\n",
    "        button.click()\n",
    "    except:\n",
    "        pass\n",
    "\n",
    "    try:\n",
    "        opis = driver.find_element(By.XPATH, '//*[@id=\"__next\"]/main/div[2]/div[2]/section[2]/div/div/div').text\n",
    "    except:\n",
    "        opis = None\n",
    "    if opis == 'Obsługa zdalna':\n",
    "        opis=driver.find_element(By.XPATH, '//*[@id=\"__next\"]/main/div[2]/div[2]/section[3]/div/div/div').text\n",
    "    col=['nazwa', 'cena' ,'zametr', 'lokalizacja','powierzchnia', 'pokoje' ,'pietro', 'czynsz' ,'forma wlasnosci' ,'stanwykonczenia' ,'balkon/ogrod/taras', 'miejsce parkingowe','ogrzewanie','opis']\n",
    "    dane=[[nazwa,cena, zametr, lokalizacja,powierzchnia,pokoje,pietro,czynsz,forma_wlasnosci,stan_wykonczenia,balkon_ogrod_taras,miesce_parkingowe,ogrzewanie,opis]]\n",
    "    return pd.DataFrame(data=dane,columns=col)"
   ]
  },
  {
   "cell_type": "code",
   "execution_count": 219,
   "id": "f1386217-ca2f-4966-8582-85d26f47dfa7",
   "metadata": {},
   "outputs": [],
   "source": [
    "w1=get_info_otodom('https://www.otodom.pl/pl/oferta/2m-mozliwosc-3m-centrum-swietna-lokalizacja-ID4ot4k.html')"
   ]
  },
  {
   "cell_type": "code",
   "execution_count": 220,
   "id": "b03e2595-d66c-4f6c-b8af-428d5cb82399",
   "metadata": {},
   "outputs": [],
   "source": [
    "w2=get_info_otodom('https://www.otodom.pl/pl/oferta/2m-balkon-nowe-dla-klientow-gotowkowych-ID4onyP.html')"
   ]
  },
  {
   "cell_type": "markdown",
   "id": "792893e1-a454-4239-8fe9-a87a4287aebe",
   "metadata": {},
   "source": [
    "***Funkcja do wyciagania linkow z olx***"
   ]
  },
  {
   "cell_type": "code",
   "execution_count": 201,
   "id": "02fc904e-e7c2-4953-abc4-259b6125cc98",
   "metadata": {},
   "outputs": [],
   "source": [
    "def get_links(url, strony):\n",
    "    links = []\n",
    "    for i in range (1,strony+1):\n",
    "        urls = url  + '?page=' + str(i)\n",
    "        driver = webdriver.Chrome()\n",
    "        driver.get(url)\n",
    "        driver.maximize_window()\n",
    "        button = driver.find_element(By.ID, \"onetrust-accept-btn-handler\")\n",
    "        button.click()\n",
    "        linki = driver.find_elements(By.CLASS_NAME, \"css-rc5s2u\")\n",
    "        for link in linki:\n",
    "            links.append(link.get_attribute(\"href\"))\n",
    "    return links"
   ]
  },
  {
   "cell_type": "code",
   "execution_count": 203,
   "id": "f71135a0-18be-4cf7-b0f0-f0404e6c78e6",
   "metadata": {},
   "outputs": [],
   "source": [
    "links = get_links('https://www.olx.pl/nieruchomosci/mieszkania/sprzedaz/q-mieszkania-kupno-wroc%C5%82aw/',3)"
   ]
  },
  {
   "cell_type": "code",
   "execution_count": 237,
   "id": "b71f0d9a-0d7a-4eef-9ae2-cd9f2bf86d35",
   "metadata": {},
   "outputs": [],
   "source": [
    "def get_info(linki):\n",
    "    wynikiolx=pd.DataFrame()\n",
    "    wynikioto=pd.DataFrame()\n",
    "    for link in linki:\n",
    "        if 'otodom' in link:\n",
    "            try:\n",
    "                wynikioto = pd.concat([wynikioto, get_info_otodom(link)], ignore_index = True)\n",
    "            except:\n",
    "                pass\n",
    "        if 'olx' in link:\n",
    "            try:\n",
    "                wynikiolx = pd.concat([wynikiolx, get_info_olx(link)], ignore_index = True)\n",
    "            except:\n",
    "                pass\n",
    "    \n",
    "    wynikiolx.to_csv('C:/Studia/modelowanie w pythonie/projekt/olx.csv',sep=',', index=False, encoding='utf-8') \n",
    "    wynikioto.to_csv('C:/Studia/modelowanie w pythonie/projekt/otodom.csv',sep=',', index=False, encoding='utf-8') \n",
    "    return wynikioto"
   ]
  },
  {
   "cell_type": "code",
   "execution_count": 238,
   "id": "2d0c07e3-a39c-4132-af1d-fd58f14e113a",
   "metadata": {},
   "outputs": [
    {
     "data": {
      "text/html": [
       "<div>\n",
       "<style scoped>\n",
       "    .dataframe tbody tr th:only-of-type {\n",
       "        vertical-align: middle;\n",
       "    }\n",
       "\n",
       "    .dataframe tbody tr th {\n",
       "        vertical-align: top;\n",
       "    }\n",
       "\n",
       "    .dataframe thead th {\n",
       "        text-align: right;\n",
       "    }\n",
       "</style>\n",
       "<table border=\"1\" class=\"dataframe\">\n",
       "  <thead>\n",
       "    <tr style=\"text-align: right;\">\n",
       "      <th></th>\n",
       "      <th>nazwa</th>\n",
       "      <th>cena</th>\n",
       "      <th>zametr</th>\n",
       "      <th>lokalizacja</th>\n",
       "      <th>powierzchnia</th>\n",
       "      <th>pokoje</th>\n",
       "      <th>pietro</th>\n",
       "      <th>czynsz</th>\n",
       "      <th>forma wlasnosci</th>\n",
       "      <th>stanwykonczenia</th>\n",
       "      <th>balkon/ogrod/taras</th>\n",
       "      <th>miejsce parkingowe</th>\n",
       "      <th>ogrzewanie</th>\n",
       "      <th>opis</th>\n",
       "    </tr>\n",
       "  </thead>\n",
       "  <tbody>\n",
       "    <tr>\n",
       "      <th>0</th>\n",
       "      <td>REZERWACJA!3M | Duży taras na najwyższym piętrze!</td>\n",
       "      <td>749 999 zł</td>\n",
       "      <td>9 615 zł/m²</td>\n",
       "      <td>Muchobór Wielki, Fabryczna, Wrocław, dolnośląskie</td>\n",
       "      <td>78 m²</td>\n",
       "      <td>3</td>\n",
       "      <td>2/2</td>\n",
       "      <td>None</td>\n",
       "      <td>pełna własność</td>\n",
       "      <td>do zamieszkania</td>\n",
       "      <td>balkon, taras</td>\n",
       "      <td>garaż/miejsce parkingowe</td>\n",
       "      <td>kotłownia</td>\n",
       "      <td>Przedstawiam Państwu na sprzedaż dwupoziomowe ...</td>\n",
       "    </tr>\n",
       "    <tr>\n",
       "      <th>1</th>\n",
       "      <td>2M możliwość 3M | CENTRUM | świetna lokalizacja</td>\n",
       "      <td>499 000 zł</td>\n",
       "      <td>9 463 zł/m²</td>\n",
       "      <td>Szczytniki, Śródmieście, Wrocław, dolnośląskie</td>\n",
       "      <td>52,73 m²</td>\n",
       "      <td>2</td>\n",
       "      <td>parter/4</td>\n",
       "      <td>450 zł</td>\n",
       "      <td>pełna własność</td>\n",
       "      <td>do remontu</td>\n",
       "      <td>None</td>\n",
       "      <td>None</td>\n",
       "      <td>miejskie</td>\n",
       "      <td>Przedstawiam Państwu 2-pokojowe mieszkanie w Ś...</td>\n",
       "    </tr>\n",
       "  </tbody>\n",
       "</table>\n",
       "</div>"
      ],
      "text/plain": [
       "                                               nazwa        cena       zametr  \\\n",
       "0  REZERWACJA!3M | Duży taras na najwyższym piętrze!  749 999 zł  9 615 zł/m²   \n",
       "1    2M możliwość 3M | CENTRUM | świetna lokalizacja  499 000 zł  9 463 zł/m²   \n",
       "\n",
       "                                         lokalizacja powierzchnia pokoje  \\\n",
       "0  Muchobór Wielki, Fabryczna, Wrocław, dolnośląskie        78 m²      3   \n",
       "1     Szczytniki, Śródmieście, Wrocław, dolnośląskie     52,73 m²      2   \n",
       "\n",
       "     pietro  czynsz forma wlasnosci  stanwykonczenia balkon/ogrod/taras  \\\n",
       "0       2/2    None  pełna własność  do zamieszkania      balkon, taras   \n",
       "1  parter/4  450 zł  pełna własność       do remontu               None   \n",
       "\n",
       "         miejsce parkingowe ogrzewanie  \\\n",
       "0  garaż/miejsce parkingowe  kotłownia   \n",
       "1                      None   miejskie   \n",
       "\n",
       "                                                opis  \n",
       "0  Przedstawiam Państwu na sprzedaż dwupoziomowe ...  \n",
       "1  Przedstawiam Państwu 2-pokojowe mieszkanie w Ś...  "
      ]
     },
     "execution_count": 238,
     "metadata": {},
     "output_type": "execute_result"
    }
   ],
   "source": [
    "get_info(links[1:3])"
   ]
  },
  {
   "cell_type": "code",
   "execution_count": null,
   "id": "72c758fb-1420-4c16-a2ca-6a10acac7c00",
   "metadata": {},
   "outputs": [],
   "source": []
  }
 ],
 "metadata": {
  "kernelspec": {
   "display_name": "Python 3 (ipykernel)",
   "language": "python",
   "name": "python3"
  },
  "language_info": {
   "codemirror_mode": {
    "name": "ipython",
    "version": 3
   },
   "file_extension": ".py",
   "mimetype": "text/x-python",
   "name": "python",
   "nbconvert_exporter": "python",
   "pygments_lexer": "ipython3",
   "version": "3.9.13"
  }
 },
 "nbformat": 4,
 "nbformat_minor": 5
}
