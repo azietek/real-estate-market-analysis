{
 "cells": [
  {
   "cell_type": "code",
   "execution_count": 1,
   "id": "63bc771e-4092-4946-8b90-3dbc783a9317",
   "metadata": {},
   "outputs": [],
   "source": [
    "from selenium import webdriver\n",
    "from selenium.webdriver.common.keys import Keys\n",
    "from selenium.webdriver.common.by import By\n",
    "from selenium.webdriver.common.action_chains import ActionChains\n",
    "from selenium.webdriver.support.ui import WebDriverWait\n",
    "\n",
    "import time\n",
    "from os.path  import basename\n",
    "import requests\n",
    "from PIL import Image\n",
    "from IPython.display import display\n",
    "import pandas as pd"
   ]
  },
  {
   "cell_type": "code",
   "execution_count": 36,
   "id": "acd5d355-6975-4ef8-b875-32951f664a70",
   "metadata": {},
   "outputs": [],
   "source": [
    "PATH = 'C:\\Program Files (x86)\\chromedriver.exe'"
   ]
  },
  {
   "cell_type": "code",
   "execution_count": 2,
   "id": "44db6c50-c0db-40a4-92ff-ac9b157abed0",
   "metadata": {},
   "outputs": [],
   "source": [
    "def features_to_df(input_string):\n",
    "    features_df = pd.DataFrame(columns=['zametr', 'pokoje', 'powierzchnia', 'umeblowane', 'czynsz', 'rodzaj zabudowy', 'rynek', 'piętro', 'typ', 'forma wlasnosci', \\\n",
    "                                    'stan wykonczenia','balkon/ogrod/taras', 'miejsce parkingowe', 'ogrzewanie'])\n",
    "    possible_feaures = ['zametr', 'pokoje', 'powierzchnia', 'umeblowane', 'czynsz', 'rodzaj zabudowy', 'rynek', 'piętro', 'typ', 'forma wlasnosci', \\\n",
    "                                    'stan wykonczenia','balkon/ogrod/taras', 'miejsce parkingowe', 'ogrzewanie']\n",
    "\n",
    "\n",
    "    pairs = [pair.strip().split(':') for pair in input_string.rstrip(',').split(', ')]\n",
    "    data_dict = {key.strip(): value.strip() for key, value in pairs}\n",
    "    \n",
    "    if 'Cena za m²' in data_dict.keys():\n",
    "        data_dict['zametr'] = data_dict.pop('Cena za m²')\n",
    "    if 'Poziom' in data_dict.keys():\n",
    "        data_dict['Piętro'] = data_dict.pop('Poziom')\n",
    "    if 'Liczba pokoi' in data_dict.keys():\n",
    "        data_dict['pokoje'] = data_dict.pop('Liczba pokoi').strip(\" \")[0]\n",
    "\n",
    "    data_dict_lower = {key.lower(): value for key, value in data_dict.items()}\n",
    "\n",
    "    for feature in possible_feaures:\n",
    "        if feature not in data_dict_lower.keys():\n",
    "            data_dict_lower[feature] = None\n",
    "    features_df.loc[len(features_df)] = data_dict_lower\n",
    "    return features_df"
   ]
  },
  {
   "cell_type": "markdown",
   "id": "7927d211-c888-4d43-9c12-a344566f03a9",
   "metadata": {},
   "source": [
    "***OLX***"
   ]
  },
  {
   "cell_type": "code",
   "execution_count": 3,
   "id": "b9875cd9-7cb1-4a48-a2ec-3cdeeee1cc14",
   "metadata": {},
   "outputs": [],
   "source": [
    "def get_info_olx(url):\n",
    "    \n",
    "    driver = webdriver.Chrome(PATH)\n",
    "    driver.get(url)\n",
    "    driver.implicitly_wait(1)\n",
    "    button = driver.find_element(By.ID, \"onetrust-accept-btn-handler\")\n",
    "    button.click()\n",
    "    \n",
    "    nazwa = driver.find_element(By.CLASS_NAME, \"css-77x51t\").text\n",
    "    cena = driver.find_element(By.CLASS_NAME, \"css-93ez2t\").text\n",
    "    opis = driver.find_element(By.CLASS_NAME, \"css-1m8mzwg\").text.split(\"OPIS\")[1].strip()\n",
    "    lokalizacja = driver.find_element(By.XPATH, \"//div[@id='hydrate-root']/div[@class='css-1ek5um8']/div[@class='css-118kolg']/div[@class='css-1d90tha']/div[@class='css-6u8zs6']/div[@class='css-1dp6pbg']/div[@class='css-1q7h1ph']/section[@class='css-16sja3n']/div[@class='css-13l8eec']/div/p[@class='css-1cju8pu er34gjf0']\").text\n",
    "    tagi = driver.find_elements(By.CLASS_NAME, \"css-1r0si1e\")\n",
    "    \n",
    "    tags = 'typ: '\n",
    "    for tag in tagi:\n",
    "        tags = tags + tag.text + ', '\n",
    "\n",
    "    \n",
    "    col=['nazwa_ogloszenia', 'cena' ,'opis' ,'lokalizacja']\n",
    "    dane=[[nazwa,cena, opis, lokalizacja]]\n",
    "    czesc = pd.DataFrame(data=dane,columns=col)\n",
    "    kawalek = features_to_df(tags.strip())\n",
    "    koncowy = pd.concat([czesc, kawalek], ignore_index = False ,axis=1)\n",
    "    return koncowy\n",
    "    "
   ]
  },
  {
   "cell_type": "markdown",
   "id": "0a1c099e-50f3-4c97-8fb8-dea670bfdbeb",
   "metadata": {},
   "source": [
    "***Otodom***"
   ]
  },
  {
   "cell_type": "code",
   "execution_count": 4,
   "id": "3c0a5d76-aff6-46d4-a783-1d9b2c9cd7af",
   "metadata": {},
   "outputs": [],
   "source": [
    "def get_info_otodom(url):\n",
    "    \n",
    "    driver = webdriver.Chrome(PATH)\n",
    "    driver.get(url)\n",
    "    driver.implicitly_wait(1)\n",
    "    button = driver.find_element(By.ID, \"onetrust-accept-btn-handler\")\n",
    "    button.click()\n",
    "    driver.maximize_window()\n",
    "    \n",
    "    nazwa = driver.find_element(By.XPATH, '/html/body/div[1]/main/div[2]/div[2]/header/h1').text\n",
    "    cena = driver.find_element(By.XPATH, '/html/body/div[1]/main/div[2]/div[2]/header/strong').text\n",
    "\n",
    "    \n",
    "    try:\n",
    "        zametr = driver.find_element(By.XPATH, '//*[@id=\"__next\"]/main/div[2]/div[2]/header/div[3]').text\n",
    "    except:\n",
    "        zametr = None\n",
    "\n",
    "    try:\n",
    "        pokoje = driver.find_element(By.XPATH, '//*[@id=\"__next\"]/main/div[2]/div[2]/div[2]/div/div[3]/div[2]/div/a').text\n",
    "    except:\n",
    "        pokoje = None\n",
    "    \n",
    "    try:\n",
    "        lokalizacja = driver.find_element(By.XPATH, '//*[@id=\"__next\"]/main/div[2]/div[2]/header/div[2]/a').text\n",
    "    except:\n",
    "        lokalizacja = None\n",
    "    \n",
    "    try:\n",
    "        powierzchnia = driver.find_element(By.XPATH, '//*[@id=\"__next\"]/main/div[2]/div[2]/div[2]/div/div[1]/div[2]/div').text\n",
    "    except:\n",
    "        powierzchnia = None\n",
    "    \n",
    "    try:\n",
    "        umeblowane = driver.find_element(By.XPATH, '//*[@id=\"__next\"]/main/div[2]/div[2]/div[6]/div/div[10]/div[2]/div').text   # na otodom podpisane jako wyposażenie\n",
    "    except:\n",
    "        umeblowane = None\n",
    "        \n",
    "    try:\n",
    "        czynsz = driver.find_element(By.XPATH, '//*[@id=\"__next\"]/main/div[2]/div[2]/div[2]/div/div[7]/div[2]/div').text\n",
    "    except:\n",
    "        czynsz = None\n",
    "        \n",
    "    try:\n",
    "        rodzaj_zabudowy = driver.find_element(By.XPATH, '//*[@id=\"__next\"]/main/div[2]/div[2]/div[6]/div/div[5]/div[2]/div').text\n",
    "    except:\n",
    "        rodzaj_zabudowy  = None\n",
    "    \n",
    "    try:\n",
    "        rynek = driver.find_element(By.XPATH, '//*[@id=\"__next\"]/main/div[2]/div[2]/div[5]/div/div[1]/div[2]/div').text\n",
    "    except:\n",
    "        rynek  = None\n",
    "    \n",
    "    try:\n",
    "        pietro = driver.find_element(By.XPATH, '//*[@id=\"__next\"]/main/div[2]/div[2]/div[2]/div/div[5]/div[2]/div').text\n",
    "    except:\n",
    "        pietro  = None\n",
    "\n",
    "    try:\n",
    "        typ = driver.find_element(By.XPATH, '//*[@id=\"__next\"]/main/div[2]/div[2]/div[6]/div/div[2]/div[2]/div').text   # typ oferenta\n",
    "    except:\n",
    "        typ = None\n",
    "    \n",
    "    try:\n",
    "        forma_wlasnosci = driver.find_element(By.XPATH, '//*[@id=\"__next\"]/main/div[2]/div[2]/div[2]/div/div[2]/div[2]/div').text \n",
    "    except:\n",
    "        forma_wlasnosci = None\n",
    "\n",
    "    try:\n",
    "        stan_wykonczenia = driver.find_element(By.XPATH, '//*[@id=\"__next\"]/main/div[2]/div[2]/div[2]/div/div[4]/div[2]/div').text \n",
    "    except:\n",
    "        stan_wykonczenia = None\n",
    "\n",
    "    try:\n",
    "        balkon_ogrod_taras = driver.find_element(By.XPATH, '//*[@id=\"__next\"]/main/div[2]/div[2]/div[2]/div/div[6]/div[2]/div').text \n",
    "    except:\n",
    "        balkon_ogrod_taras = None\n",
    "\n",
    "    try:\n",
    "        miejsce_parkingowe = driver.find_element(By.XPATH, '//*[@id=\"__next\"]/main/div[2]/div[2]/div[2]/div/div[8]/div[2]/span/span/div').text \n",
    "    except:\n",
    "        miejsce_parkingowe = None\n",
    "\n",
    "    try:\n",
    "        ogrzewanie = driver.find_element(By.XPATH, '//*[@id=\"__next\"]/main/div[2]/div[2]/div[2]/div/div[10]/div[2]/div').text \n",
    "    except:\n",
    "        ogrzewanie = None\n",
    "\n",
    "    try:\n",
    "        button = driver.find_element(By.XPATH, '//*[@id=\"__next\"]/main/div[2]/div[2]/section[2]/div/button')\n",
    "        button.click()\n",
    "    except:\n",
    "        pass\n",
    "\n",
    "    try:\n",
    "        opis = driver.find_element(By.XPATH, '//*[@id=\"__next\"]/main/div[2]/div[2]/section[2]/div/div/div').text\n",
    "    except:\n",
    "        opis = None\n",
    "    if opis == 'Obsługa zdalna':\n",
    "        opis = driver.find_element(By.XPATH, '//*[@id=\"__next\"]/main/div[2]/div[2]/section[3]/div/div/div').text\n",
    "        \n",
    "    col = ['nazwa_ogloszenia', 'cena', 'opis', 'lokalizacja','zametr','pokoje', 'powierzchnia' , 'umeblowane', 'czynsz' , 'rodzaj zabudowy', 'rynek', 'piętro', 'typ', 'forma wlasnosci','stan wykonczenia', 'balkon/ogrod/taras', 'miejsce parkingowe', 'ogrzewanie']\n",
    "    dane = [[nazwa, cena, opis, lokalizacja,zametr,pokoje, powierzchnia, umeblowane, czynsz, rodzaj_zabudowy, rynek, pietro, typ, forma_wlasnosci, stan_wykonczenia, balkon_ogrod_taras, miejsce_parkingowe, ogrzewanie]]\n",
    "\n",
    "    \n",
    "\n",
    "    \n",
    "\n",
    "    return pd.DataFrame(data=dane,columns=col)"
   ]
  },
  {
   "cell_type": "markdown",
   "id": "de03a92b-1d90-40f7-9364-a3db196c0cd9",
   "metadata": {},
   "source": [
    "***Funkcja do wyciagania linkow z olx***"
   ]
  },
  {
   "cell_type": "code",
   "execution_count": 7,
   "id": "b8f7ea85-1d3e-4172-83e0-803a8c04572e",
   "metadata": {},
   "outputs": [],
   "source": [
    "def get_links(url, strony):\n",
    "    links = []\n",
    "    for i in range (1,strony+1):\n",
    "        urls = url  + '?page=' + str(i)\n",
    "        driver = webdriver.Chrome(PATH)\n",
    "        driver.get(url)\n",
    "        driver.maximize_window()\n",
    "        button = driver.find_element(By.ID, \"onetrust-accept-btn-handler\")\n",
    "        button.click()\n",
    "        linki = driver.find_elements(By.CLASS_NAME, \"css-rc5s2u\")\n",
    "        \n",
    "        for link in linki:\n",
    "            links.append(link.get_attribute(\"href\"))\n",
    "            \n",
    "    return links"
   ]
  },
  {
   "cell_type": "code",
   "execution_count": 9,
   "id": "71bce135-2dec-4f25-aaf8-022e4108a0e5",
   "metadata": {},
   "outputs": [],
   "source": [
    "linki_do_scrapowania_olx = get_links('https://www.olx.pl/nieruchomosci/mieszkania/sprzedaz/wroclaw/',1) #TU ZMIENIC LICZBE STRON!!!!!!!!"
   ]
  },
  {
   "cell_type": "code",
   "execution_count": 71,
   "id": "d402f357-7d6a-4c8b-af49-62e93b49eb13",
   "metadata": {},
   "outputs": [],
   "source": [
    "def get_info(linki):\n",
    "    \n",
    "    wyniki = pd.DataFrame()\n",
    "    odrzucone = []\n",
    "    \n",
    "    for link in linki:\n",
    "        if 'otodom' in link:\n",
    "            try:\n",
    "                wyniki = pd.concat([wyniki, get_info_otodom(link)], ignore_index = True)\n",
    "            except:\n",
    "                odrzucone.append(link)\n",
    "        if 'olx' in link:\n",
    "            try:\n",
    "                wyniki = pd.concat([wyniki, get_info_olx(link)], ignore_index = True)\n",
    "            except:\n",
    "                odrzucone.append(link)\n",
    "    \n",
    "    wyniki.to_csv('D:/Skrypty/IX semestr/MM w Pythonie/Projekt/oferty.csv', sep = ',', index = False, encoding = 'utf-8') \n",
    "    \n",
    "    return odrzucone"
   ]
  },
  {
   "cell_type": "code",
   "execution_count": null,
   "id": "c3f3f9af-cdb1-4393-9865-4890fba0061c",
   "metadata": {},
   "outputs": [],
   "source": [
    "#Koncowo dane scrapujemy z tego: linki_do_scrapowania_olx TYLKO TAM DAC ODPOWIEDNIA LICZBE STRON A NIE 3!!!!"
   ]
  },
  {
   "cell_type": "code",
   "execution_count": null,
   "id": "de0f0022-8c00-4312-9f52-90a9a773b391",
   "metadata": {},
   "outputs": [],
   "source": [
    "# 3 przykladowe linki, dwa pierwsze otodom trzeci olx"
   ]
  },
  {
   "cell_type": "code",
   "execution_count": 73,
   "id": "68153fdf-3b84-4a34-a927-7cb2530abde0",
   "metadata": {},
   "outputs": [
    {
     "data": {
      "text/plain": [
       "[]"
      ]
     },
     "execution_count": 73,
     "metadata": {},
     "output_type": "execute_result"
    }
   ],
   "source": [
    "get_info(['https://www.otodom.pl/pl/oferta/jagodno-lux-3pok-garaz-taras-52m-2-lazienki-ID4oxRA.html?_gl=1*1bp7fjf*_ga*MjkxMDI1MjA2LjE3MDQ5MTI1OTk.*_ga_6PZTQNYS5C*MTcwNTMxMjYwOC45LjEuMTcwNTMxMzk0NC41MS4wLjA.&_ga=2.24430653.640981245.1705246096-291025206.1704912599','https://www.otodom.pl/pl/oferta/rezerwacja-3m-duzy-taras-na-najwyzszym-pietrze-ID4ozaq.html?_gl=1*1bp7fjf*_ga*MjkxMDI1MjA2LjE3MDQ5MTI1OTk.*_ga_6PZTQNYS5C*MTcwNTMxMjYwOC45LjEuMTcwNTMxMzk0NC41MS4wLjA.&_ga=2.24430653.640981245.1705246096-291025206.1704912599','https://www.olx.pl/d/oferta/mieszkanie-muchobor-wielki-CID3-IDYgrOg.html'])"
   ]
  },
  {
   "cell_type": "code",
   "execution_count": null,
   "id": "3ffb5b69-4d86-4ea6-9873-05468716a8c9",
   "metadata": {},
   "outputs": [],
   "source": [
    "get_info(linki_do_scrapowania_olx)"
   ]
  },
  {
   "cell_type": "code",
   "execution_count": null,
   "id": "5d1bed07-0f62-4bd3-9578-883605643280",
   "metadata": {},
   "outputs": [],
   "source": []
  }
 ],
 "metadata": {
  "kernelspec": {
   "display_name": "Python 3 (ipykernel)",
   "language": "python",
   "name": "python3"
  },
  "language_info": {
   "codemirror_mode": {
    "name": "ipython",
    "version": 3
   },
   "file_extension": ".py",
   "mimetype": "text/x-python",
   "name": "python",
   "nbconvert_exporter": "python",
   "pygments_lexer": "ipython3",
   "version": "3.9.13"
  }
 },
 "nbformat": 4,
 "nbformat_minor": 5
}
